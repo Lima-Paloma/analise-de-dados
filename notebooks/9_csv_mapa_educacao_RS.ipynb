{
 "cells": [
  {
   "cell_type": "markdown",
   "metadata": {},
   "source": [
    "## Mapa das escolas do RS por taxa de distorção idade série\n",
    "Arquivo --> fee-2013-mun-taxa-de-distorcao-idade-serie-total-102524.csv\n",
    "\n",
    "Taxa de distorção idade série: Expressa o percentual de alunos, em cada série, com idade superior à idade recomendada.\n",
    "Fórmula de cálculo, disponível em: http://www.consultaesic.cgu.gov.br/busca/dados/Lists/Pedido/Attachments/475929/RESPOSTA_PEDIDO_Nota%20tecnica%20da%20Taxa%20de%20Distoro%20Idade.pdf\n"
   ]
  },
  {
   "cell_type": "code",
   "execution_count": 1,
   "metadata": {},
   "outputs": [
    {
     "name": "stdout",
     "output_type": "stream",
     "text": [
      "Requirement already satisfied: folium in c:\\users\\paloma\\anaconda3\\lib\\site-packages (0.11.0)\n",
      "Requirement already satisfied: jinja2>=2.9 in c:\\users\\paloma\\anaconda3\\lib\\site-packages (from folium) (2.11.1)\n",
      "Requirement already satisfied: numpy in c:\\users\\paloma\\anaconda3\\lib\\site-packages (from folium) (1.18.1)\n",
      "Requirement already satisfied: branca>=0.3.0 in c:\\users\\paloma\\anaconda3\\lib\\site-packages (from folium) (0.4.1)\n",
      "Requirement already satisfied: requests in c:\\users\\paloma\\anaconda3\\lib\\site-packages (from folium) (2.22.0)\n",
      "Requirement already satisfied: MarkupSafe>=0.23 in c:\\users\\paloma\\anaconda3\\lib\\site-packages (from jinja2>=2.9->folium) (1.1.1)\n",
      "Requirement already satisfied: idna<2.9,>=2.5 in c:\\users\\paloma\\anaconda3\\lib\\site-packages (from requests->folium) (2.8)\n",
      "Requirement already satisfied: urllib3!=1.25.0,!=1.25.1,<1.26,>=1.21.1 in c:\\users\\paloma\\anaconda3\\lib\\site-packages (from requests->folium) (1.25.8)\n",
      "Requirement already satisfied: chardet<3.1.0,>=3.0.2 in c:\\users\\paloma\\anaconda3\\lib\\site-packages (from requests->folium) (3.0.4)\n",
      "Requirement already satisfied: certifi>=2017.4.17 in c:\\users\\paloma\\anaconda3\\lib\\site-packages (from requests->folium) (2019.11.28)\n"
     ]
    }
   ],
   "source": [
    "# Instalar novas bibliotecas usando exclamação e pip\n",
    "# ! permite a execução de comandos diretamente no jupiter notebook\n",
    "!pip install folium"
   ]
  },
  {
   "cell_type": "code",
   "execution_count": 2,
   "metadata": {},
   "outputs": [],
   "source": [
    "# Importando Bibliotecas\n",
    "import pandas as pd\n",
    "%matplotlib inline\n",
    "import folium"
   ]
  },
  {
   "cell_type": "code",
   "execution_count": 3,
   "metadata": {},
   "outputs": [
    {
     "data": {
      "text/html": [
       "<div>\n",
       "<style scoped>\n",
       "    .dataframe tbody tr th:only-of-type {\n",
       "        vertical-align: middle;\n",
       "    }\n",
       "\n",
       "    .dataframe tbody tr th {\n",
       "        vertical-align: top;\n",
       "    }\n",
       "\n",
       "    .dataframe thead th {\n",
       "        text-align: right;\n",
       "    }\n",
       "</style>\n",
       "<table border=\"1\" class=\"dataframe\">\n",
       "  <thead>\n",
       "    <tr style=\"text-align: right;\">\n",
       "      <th></th>\n",
       "      <th>Município</th>\n",
       "      <th>ibge</th>\n",
       "      <th>latitude</th>\n",
       "      <th>longitude</th>\n",
       "      <th>/Educação/Ens...de Série/Total 2013 (-)</th>\n",
       "    </tr>\n",
       "  </thead>\n",
       "  <tbody>\n",
       "    <tr>\n",
       "      <th>0</th>\n",
       "      <td>Aceguá</td>\n",
       "      <td>4300034</td>\n",
       "      <td>-31.86076</td>\n",
       "      <td>-54.16706</td>\n",
       "      <td>25,7</td>\n",
       "    </tr>\n",
       "    <tr>\n",
       "      <th>1</th>\n",
       "      <td>Água Santa</td>\n",
       "      <td>4300059</td>\n",
       "      <td>-28.16720</td>\n",
       "      <td>-52.03100</td>\n",
       "      <td>14,7</td>\n",
       "    </tr>\n",
       "    <tr>\n",
       "      <th>2</th>\n",
       "      <td>Agudo</td>\n",
       "      <td>4300109</td>\n",
       "      <td>-29.64470</td>\n",
       "      <td>-53.25150</td>\n",
       "      <td>26,4</td>\n",
       "    </tr>\n",
       "    <tr>\n",
       "      <th>3</th>\n",
       "      <td>Ajuricaba</td>\n",
       "      <td>4300208</td>\n",
       "      <td>-28.23420</td>\n",
       "      <td>-53.77570</td>\n",
       "      <td>24,1</td>\n",
       "    </tr>\n",
       "    <tr>\n",
       "      <th>4</th>\n",
       "      <td>Alecrim</td>\n",
       "      <td>4300307</td>\n",
       "      <td>-27.65790</td>\n",
       "      <td>-54.76490</td>\n",
       "      <td>18,9</td>\n",
       "    </tr>\n",
       "  </tbody>\n",
       "</table>\n",
       "</div>"
      ],
      "text/plain": [
       "    Município     ibge  latitude  longitude  \\\n",
       "0      Aceguá  4300034 -31.86076  -54.16706   \n",
       "1  Água Santa  4300059 -28.16720  -52.03100   \n",
       "2       Agudo  4300109 -29.64470  -53.25150   \n",
       "3   Ajuricaba  4300208 -28.23420  -53.77570   \n",
       "4     Alecrim  4300307 -27.65790  -54.76490   \n",
       "\n",
       "  /Educação/Ens...de Série/Total 2013 (-)  \n",
       "0                                    25,7  \n",
       "1                                    14,7  \n",
       "2                                    26,4  \n",
       "3                                    24,1  \n",
       "4                                    18,9  "
      ]
     },
     "execution_count": 3,
     "metadata": {},
     "output_type": "execute_result"
    }
   ],
   "source": [
    "# Carregando arquivo csv\n",
    "df = pd.read_csv('fee-2013-mun-taxa-de-distorcao-idade-serie-total-102524.csv', encoding='latin1', skiprows=1)\n",
    "df.head()"
   ]
  },
  {
   "cell_type": "code",
   "execution_count": 4,
   "metadata": {},
   "outputs": [
    {
     "data": {
      "text/html": [
       "<div>\n",
       "<style scoped>\n",
       "    .dataframe tbody tr th:only-of-type {\n",
       "        vertical-align: middle;\n",
       "    }\n",
       "\n",
       "    .dataframe tbody tr th {\n",
       "        vertical-align: top;\n",
       "    }\n",
       "\n",
       "    .dataframe thead th {\n",
       "        text-align: right;\n",
       "    }\n",
       "</style>\n",
       "<table border=\"1\" class=\"dataframe\">\n",
       "  <thead>\n",
       "    <tr style=\"text-align: right;\">\n",
       "      <th></th>\n",
       "      <th>Município</th>\n",
       "      <th>ibge</th>\n",
       "      <th>latitude</th>\n",
       "      <th>longitude</th>\n",
       "      <th>tx_distorcao</th>\n",
       "    </tr>\n",
       "  </thead>\n",
       "  <tbody>\n",
       "    <tr>\n",
       "      <th>0</th>\n",
       "      <td>Aceguá</td>\n",
       "      <td>4300034</td>\n",
       "      <td>-31.86076</td>\n",
       "      <td>-54.16706</td>\n",
       "      <td>25,7</td>\n",
       "    </tr>\n",
       "    <tr>\n",
       "      <th>1</th>\n",
       "      <td>Água Santa</td>\n",
       "      <td>4300059</td>\n",
       "      <td>-28.16720</td>\n",
       "      <td>-52.03100</td>\n",
       "      <td>14,7</td>\n",
       "    </tr>\n",
       "    <tr>\n",
       "      <th>2</th>\n",
       "      <td>Agudo</td>\n",
       "      <td>4300109</td>\n",
       "      <td>-29.64470</td>\n",
       "      <td>-53.25150</td>\n",
       "      <td>26,4</td>\n",
       "    </tr>\n",
       "    <tr>\n",
       "      <th>3</th>\n",
       "      <td>Ajuricaba</td>\n",
       "      <td>4300208</td>\n",
       "      <td>-28.23420</td>\n",
       "      <td>-53.77570</td>\n",
       "      <td>24,1</td>\n",
       "    </tr>\n",
       "    <tr>\n",
       "      <th>4</th>\n",
       "      <td>Alecrim</td>\n",
       "      <td>4300307</td>\n",
       "      <td>-27.65790</td>\n",
       "      <td>-54.76490</td>\n",
       "      <td>18,9</td>\n",
       "    </tr>\n",
       "  </tbody>\n",
       "</table>\n",
       "</div>"
      ],
      "text/plain": [
       "    Município     ibge  latitude  longitude tx_distorcao\n",
       "0      Aceguá  4300034 -31.86076  -54.16706         25,7\n",
       "1  Água Santa  4300059 -28.16720  -52.03100         14,7\n",
       "2       Agudo  4300109 -29.64470  -53.25150         26,4\n",
       "3   Ajuricaba  4300208 -28.23420  -53.77570         24,1\n",
       "4     Alecrim  4300307 -27.65790  -54.76490         18,9"
      ]
     },
     "execution_count": 4,
     "metadata": {},
     "output_type": "execute_result"
    }
   ],
   "source": [
    "# Renomeando colunas\n",
    "# Inplece altera efetivamente o nome da coluna\n",
    "df.rename(columns={'/Educação/Ens...de Série/Total 2013 (-)':'tx_distorcao'}, inplace=True)\n",
    "df.head()"
   ]
  },
  {
   "cell_type": "code",
   "execution_count": 5,
   "metadata": {},
   "outputs": [
    {
     "name": "stdout",
     "output_type": "stream",
     "text": [
      "<class 'pandas.core.frame.DataFrame'>\n",
      "RangeIndex: 495 entries, 0 to 494\n",
      "Data columns (total 5 columns):\n",
      " #   Column        Non-Null Count  Dtype  \n",
      "---  ------        --------------  -----  \n",
      " 0   Município     495 non-null    object \n",
      " 1   ibge          495 non-null    int64  \n",
      " 2   latitude      495 non-null    float64\n",
      " 3   longitude     495 non-null    float64\n",
      " 4   tx_distorcao  495 non-null    object \n",
      "dtypes: float64(2), int64(1), object(2)\n",
      "memory usage: 19.5+ KB\n"
     ]
    }
   ],
   "source": [
    "# Verificando o DataFrame\n",
    "df.info()"
   ]
  },
  {
   "cell_type": "code",
   "execution_count": 6,
   "metadata": {},
   "outputs": [
    {
     "data": {
      "text/html": [
       "<div>\n",
       "<style scoped>\n",
       "    .dataframe tbody tr th:only-of-type {\n",
       "        vertical-align: middle;\n",
       "    }\n",
       "\n",
       "    .dataframe tbody tr th {\n",
       "        vertical-align: top;\n",
       "    }\n",
       "\n",
       "    .dataframe thead th {\n",
       "        text-align: right;\n",
       "    }\n",
       "</style>\n",
       "<table border=\"1\" class=\"dataframe\">\n",
       "  <thead>\n",
       "    <tr style=\"text-align: right;\">\n",
       "      <th></th>\n",
       "      <th>Município</th>\n",
       "      <th>ibge</th>\n",
       "      <th>latitude</th>\n",
       "      <th>longitude</th>\n",
       "      <th>tx_distorcao</th>\n",
       "    </tr>\n",
       "  </thead>\n",
       "  <tbody>\n",
       "    <tr>\n",
       "      <th>0</th>\n",
       "      <td>Aceguá</td>\n",
       "      <td>4300034</td>\n",
       "      <td>-31.86076</td>\n",
       "      <td>-54.16706</td>\n",
       "      <td>25.7</td>\n",
       "    </tr>\n",
       "    <tr>\n",
       "      <th>1</th>\n",
       "      <td>Água Santa</td>\n",
       "      <td>4300059</td>\n",
       "      <td>-28.16720</td>\n",
       "      <td>-52.03100</td>\n",
       "      <td>14.7</td>\n",
       "    </tr>\n",
       "    <tr>\n",
       "      <th>2</th>\n",
       "      <td>Agudo</td>\n",
       "      <td>4300109</td>\n",
       "      <td>-29.64470</td>\n",
       "      <td>-53.25150</td>\n",
       "      <td>26.4</td>\n",
       "    </tr>\n",
       "    <tr>\n",
       "      <th>3</th>\n",
       "      <td>Ajuricaba</td>\n",
       "      <td>4300208</td>\n",
       "      <td>-28.23420</td>\n",
       "      <td>-53.77570</td>\n",
       "      <td>24.1</td>\n",
       "    </tr>\n",
       "    <tr>\n",
       "      <th>4</th>\n",
       "      <td>Alecrim</td>\n",
       "      <td>4300307</td>\n",
       "      <td>-27.65790</td>\n",
       "      <td>-54.76490</td>\n",
       "      <td>18.9</td>\n",
       "    </tr>\n",
       "  </tbody>\n",
       "</table>\n",
       "</div>"
      ],
      "text/plain": [
       "    Município     ibge  latitude  longitude tx_distorcao\n",
       "0      Aceguá  4300034 -31.86076  -54.16706         25.7\n",
       "1  Água Santa  4300059 -28.16720  -52.03100         14.7\n",
       "2       Agudo  4300109 -29.64470  -53.25150         26.4\n",
       "3   Ajuricaba  4300208 -28.23420  -53.77570         24.1\n",
       "4     Alecrim  4300307 -27.65790  -54.76490         18.9"
      ]
     },
     "execution_count": 6,
     "metadata": {},
     "output_type": "execute_result"
    }
   ],
   "source": [
    "# Vamos converter tx_distorcao para float (numero)\n",
    "# Primeiro vamos trocar virgula por ponto (problema da lingua norte americana)\n",
    "df['tx_distorcao'] = df['tx_distorcao'].str.replace(',','.')\n",
    "df.head()"
   ]
  },
  {
   "cell_type": "code",
   "execution_count": 7,
   "metadata": {},
   "outputs": [
    {
     "name": "stdout",
     "output_type": "stream",
     "text": [
      "<class 'pandas.core.frame.DataFrame'>\n",
      "RangeIndex: 495 entries, 0 to 494\n",
      "Data columns (total 5 columns):\n",
      " #   Column        Non-Null Count  Dtype  \n",
      "---  ------        --------------  -----  \n",
      " 0   Município     495 non-null    object \n",
      " 1   ibge          495 non-null    int64  \n",
      " 2   latitude      495 non-null    float64\n",
      " 3   longitude     495 non-null    float64\n",
      " 4   tx_distorcao  495 non-null    float64\n",
      "dtypes: float64(3), int64(1), object(1)\n",
      "memory usage: 19.5+ KB\n"
     ]
    }
   ],
   "source": [
    "# Fazendo a conversão da coluna por numerica\n",
    "df['tx_distorcao'] = df['tx_distorcao'].astype(float)\n",
    "df.info()"
   ]
  },
  {
   "cell_type": "code",
   "execution_count": 8,
   "metadata": {},
   "outputs": [
    {
     "data": {
      "text/html": [
       "<div>\n",
       "<style scoped>\n",
       "    .dataframe tbody tr th:only-of-type {\n",
       "        vertical-align: middle;\n",
       "    }\n",
       "\n",
       "    .dataframe tbody tr th {\n",
       "        vertical-align: top;\n",
       "    }\n",
       "\n",
       "    .dataframe thead th {\n",
       "        text-align: right;\n",
       "    }\n",
       "</style>\n",
       "<table border=\"1\" class=\"dataframe\">\n",
       "  <thead>\n",
       "    <tr style=\"text-align: right;\">\n",
       "      <th></th>\n",
       "      <th>Município</th>\n",
       "      <th>ibge</th>\n",
       "      <th>latitude</th>\n",
       "      <th>longitude</th>\n",
       "      <th>tx_distorcao</th>\n",
       "    </tr>\n",
       "  </thead>\n",
       "  <tbody>\n",
       "    <tr>\n",
       "      <th>490</th>\n",
       "      <td>Vista Alegre do Prata</td>\n",
       "      <td>4323606</td>\n",
       "      <td>-28.8052</td>\n",
       "      <td>-51.7946</td>\n",
       "      <td>2.6</td>\n",
       "    </tr>\n",
       "    <tr>\n",
       "      <th>375</th>\n",
       "      <td>Santo Antônio do Palma</td>\n",
       "      <td>4317558</td>\n",
       "      <td>-28.4956</td>\n",
       "      <td>-52.0267</td>\n",
       "      <td>4.3</td>\n",
       "    </tr>\n",
       "    <tr>\n",
       "      <th>28</th>\n",
       "      <td>Áurea</td>\n",
       "      <td>4301552</td>\n",
       "      <td>-27.6936</td>\n",
       "      <td>-52.0505</td>\n",
       "      <td>5.8</td>\n",
       "    </tr>\n",
       "    <tr>\n",
       "      <th>268</th>\n",
       "      <td>Nicolau Vergueiro</td>\n",
       "      <td>4312674</td>\n",
       "      <td>-28.5298</td>\n",
       "      <td>-52.4676</td>\n",
       "      <td>7.0</td>\n",
       "    </tr>\n",
       "    <tr>\n",
       "      <th>128</th>\n",
       "      <td>Derrubadas</td>\n",
       "      <td>4306320</td>\n",
       "      <td>-27.2642</td>\n",
       "      <td>-53.8645</td>\n",
       "      <td>7.4</td>\n",
       "    </tr>\n",
       "    <tr>\n",
       "      <th>119</th>\n",
       "      <td>Cotiporã</td>\n",
       "      <td>4305959</td>\n",
       "      <td>-28.9891</td>\n",
       "      <td>-51.6971</td>\n",
       "      <td>7.5</td>\n",
       "    </tr>\n",
       "    <tr>\n",
       "      <th>68</th>\n",
       "      <td>Campestre da Serra</td>\n",
       "      <td>4303673</td>\n",
       "      <td>-28.7926</td>\n",
       "      <td>-51.0941</td>\n",
       "      <td>7.6</td>\n",
       "    </tr>\n",
       "    <tr>\n",
       "      <th>476</th>\n",
       "      <td>Vanini</td>\n",
       "      <td>4322558</td>\n",
       "      <td>-28.4758</td>\n",
       "      <td>-51.8447</td>\n",
       "      <td>7.8</td>\n",
       "    </tr>\n",
       "    <tr>\n",
       "      <th>236</th>\n",
       "      <td>Linha Nova</td>\n",
       "      <td>4311643</td>\n",
       "      <td>-29.4679</td>\n",
       "      <td>-51.2003</td>\n",
       "      <td>8.0</td>\n",
       "    </tr>\n",
       "    <tr>\n",
       "      <th>392</th>\n",
       "      <td>São José do Inhacorá</td>\n",
       "      <td>4318499</td>\n",
       "      <td>-27.7251</td>\n",
       "      <td>-54.1275</td>\n",
       "      <td>8.0</td>\n",
       "    </tr>\n",
       "  </tbody>\n",
       "</table>\n",
       "</div>"
      ],
      "text/plain": [
       "                  Município     ibge  latitude  longitude  tx_distorcao\n",
       "490   Vista Alegre do Prata  4323606  -28.8052   -51.7946           2.6\n",
       "375  Santo Antônio do Palma  4317558  -28.4956   -52.0267           4.3\n",
       "28                    Áurea  4301552  -27.6936   -52.0505           5.8\n",
       "268       Nicolau Vergueiro  4312674  -28.5298   -52.4676           7.0\n",
       "128              Derrubadas  4306320  -27.2642   -53.8645           7.4\n",
       "119                Cotiporã  4305959  -28.9891   -51.6971           7.5\n",
       "68       Campestre da Serra  4303673  -28.7926   -51.0941           7.6\n",
       "476                  Vanini  4322558  -28.4758   -51.8447           7.8\n",
       "236              Linha Nova  4311643  -29.4679   -51.2003           8.0\n",
       "392    São José do Inhacorá  4318499  -27.7251   -54.1275           8.0"
      ]
     },
     "execution_count": 8,
     "metadata": {},
     "output_type": "execute_result"
    }
   ],
   "source": [
    "# 10 municipios com menor taxa de distorção\n",
    "df.nsmallest(10,'tx_distorcao')"
   ]
  },
  {
   "cell_type": "code",
   "execution_count": 9,
   "metadata": {},
   "outputs": [
    {
     "data": {
      "text/html": [
       "<div>\n",
       "<style scoped>\n",
       "    .dataframe tbody tr th:only-of-type {\n",
       "        vertical-align: middle;\n",
       "    }\n",
       "\n",
       "    .dataframe tbody tr th {\n",
       "        vertical-align: top;\n",
       "    }\n",
       "\n",
       "    .dataframe thead th {\n",
       "        text-align: right;\n",
       "    }\n",
       "</style>\n",
       "<table border=\"1\" class=\"dataframe\">\n",
       "  <thead>\n",
       "    <tr style=\"text-align: right;\">\n",
       "      <th></th>\n",
       "      <th>Município</th>\n",
       "      <th>ibge</th>\n",
       "      <th>latitude</th>\n",
       "      <th>longitude</th>\n",
       "      <th>tx_distorcao</th>\n",
       "    </tr>\n",
       "  </thead>\n",
       "  <tbody>\n",
       "    <tr>\n",
       "      <th>307</th>\n",
       "      <td>Pedras Altas</td>\n",
       "      <td>4314175</td>\n",
       "      <td>-31.7217</td>\n",
       "      <td>-53.5838</td>\n",
       "      <td>56.0</td>\n",
       "    </tr>\n",
       "    <tr>\n",
       "      <th>316</th>\n",
       "      <td>Pinheiro Machado</td>\n",
       "      <td>4314506</td>\n",
       "      <td>-31.5794</td>\n",
       "      <td>-53.3798</td>\n",
       "      <td>53.9</td>\n",
       "    </tr>\n",
       "    <tr>\n",
       "      <th>17</th>\n",
       "      <td>Arambaré</td>\n",
       "      <td>4300851</td>\n",
       "      <td>-30.9093</td>\n",
       "      <td>-51.5046</td>\n",
       "      <td>52.8</td>\n",
       "    </tr>\n",
       "    <tr>\n",
       "      <th>140</th>\n",
       "      <td>Eldorado do Sul</td>\n",
       "      <td>4306767</td>\n",
       "      <td>-30.0847</td>\n",
       "      <td>-51.6187</td>\n",
       "      <td>51.9</td>\n",
       "    </tr>\n",
       "    <tr>\n",
       "      <th>35</th>\n",
       "      <td>Barra do Quaraí</td>\n",
       "      <td>4301875</td>\n",
       "      <td>-30.2029</td>\n",
       "      <td>-57.5497</td>\n",
       "      <td>51.5</td>\n",
       "    </tr>\n",
       "    <tr>\n",
       "      <th>393</th>\n",
       "      <td>São José do Norte</td>\n",
       "      <td>4318507</td>\n",
       "      <td>-32.0151</td>\n",
       "      <td>-52.0331</td>\n",
       "      <td>49.4</td>\n",
       "    </tr>\n",
       "    <tr>\n",
       "      <th>413</th>\n",
       "      <td>São Valério do Sul</td>\n",
       "      <td>4319737</td>\n",
       "      <td>-27.7906</td>\n",
       "      <td>-53.9368</td>\n",
       "      <td>49.2</td>\n",
       "    </tr>\n",
       "    <tr>\n",
       "      <th>193</th>\n",
       "      <td>Hulha Negra</td>\n",
       "      <td>4309654</td>\n",
       "      <td>-31.4067</td>\n",
       "      <td>-53.8667</td>\n",
       "      <td>49.0</td>\n",
       "    </tr>\n",
       "    <tr>\n",
       "      <th>106</th>\n",
       "      <td>Chuí</td>\n",
       "      <td>4305439</td>\n",
       "      <td>-33.6866</td>\n",
       "      <td>-53.4594</td>\n",
       "      <td>48.6</td>\n",
       "    </tr>\n",
       "    <tr>\n",
       "      <th>233</th>\n",
       "      <td>Lavras do Sul</td>\n",
       "      <td>4311502</td>\n",
       "      <td>-30.8071</td>\n",
       "      <td>-53.8931</td>\n",
       "      <td>47.7</td>\n",
       "    </tr>\n",
       "  </tbody>\n",
       "</table>\n",
       "</div>"
      ],
      "text/plain": [
       "              Município     ibge  latitude  longitude  tx_distorcao\n",
       "307        Pedras Altas  4314175  -31.7217   -53.5838          56.0\n",
       "316    Pinheiro Machado  4314506  -31.5794   -53.3798          53.9\n",
       "17             Arambaré  4300851  -30.9093   -51.5046          52.8\n",
       "140     Eldorado do Sul  4306767  -30.0847   -51.6187          51.9\n",
       "35      Barra do Quaraí  4301875  -30.2029   -57.5497          51.5\n",
       "393   São José do Norte  4318507  -32.0151   -52.0331          49.4\n",
       "413  São Valério do Sul  4319737  -27.7906   -53.9368          49.2\n",
       "193         Hulha Negra  4309654  -31.4067   -53.8667          49.0\n",
       "106                Chuí  4305439  -33.6866   -53.4594          48.6\n",
       "233       Lavras do Sul  4311502  -30.8071   -53.8931          47.7"
      ]
     },
     "execution_count": 9,
     "metadata": {},
     "output_type": "execute_result"
    }
   ],
   "source": [
    "# 10 municipios com maior taxa de distorção\n",
    "df.nlargest(10,'tx_distorcao')"
   ]
  },
  {
   "cell_type": "code",
   "execution_count": 10,
   "metadata": {},
   "outputs": [
    {
     "data": {
      "text/plain": [
       "<matplotlib.axes._subplots.AxesSubplot at 0x177d71f8908>"
      ]
     },
     "execution_count": 10,
     "metadata": {},
     "output_type": "execute_result"
    },
    {
     "data": {
      "image/png": "[encoded data removed]",
      "text/plain": [
       "<Figure size 432x288 with 1 Axes>"
      ]
     },
     "metadata": {
      "needs_background": "light"
     },
     "output_type": "display_data"
    }
   ],
   "source": [
    "# Plotando em histograma a taxa de distorção\n",
    "df['tx_distorcao'].plot.hist(bins=100)"
   ]
  },
  {
   "cell_type": "code",
   "execution_count": 11,
   "metadata": {},
   "outputs": [
    {
     "data": {
      "text/plain": [
       "Município       17\n",
       "ibge            17\n",
       "latitude        17\n",
       "longitude       17\n",
       "tx_distorcao    17\n",
       "dtype: int64"
      ]
     },
     "execution_count": 11,
     "metadata": {},
     "output_type": "execute_result"
    }
   ],
   "source": [
    "# Quantidade de municípios que estão com taxa distorção menor ou igual 10\n",
    "df[df['tx_distorcao'] <= 10].count()"
   ]
  },
  {
   "cell_type": "code",
   "execution_count": 12,
   "metadata": {},
   "outputs": [
    {
     "data": {
      "text/plain": [
       "Município       17\n",
       "ibge            17\n",
       "latitude        17\n",
       "longitude       17\n",
       "tx_distorcao    17\n",
       "dtype: int64"
      ]
     },
     "execution_count": 12,
     "metadata": {},
     "output_type": "execute_result"
    }
   ],
   "source": [
    "df[df['tx_distorcao'] >= 45].count()"
   ]
  },
  {
   "cell_type": "code",
   "execution_count": 13,
   "metadata": {},
   "outputs": [
    {
     "data": {
      "text/html": [
       "<div style=\"width:100%;\"><div style=\"position:relative;width:100%;height:0;padding-bottom:60%;\"><span style=\"color:#565656\">Make this Notebook Trusted to load map: File -> Trust Notebook</span><iframe src=\"about:blank\" style=\"position:absolute;width:100%;height:100%;left:0;top:0;border:none !important;\" data-html=PCFET0NUWVBFIGh0bWw+CjxoZWFkPiAgICAKICAgIDxtZXRhIGh0dHAtZXF1aXY9ImNvbnRlbnQtdHlwZSIgY29udGVudD0idGV4dC9odG1sOyBjaGFyc2V0PVVURi04IiAvPgogICAgCiAgICAgICAgPHNjcmlwdD4KICAgICAgICAgICAgTF9OT19UT1VDSCA9IGZhbHNlOwogICAgICAgICAgICBMX0RJU0FCTEVfM0QgPSBmYWxzZTsKICAgICAgICA8L3NjcmlwdD4KICAgIAogICAgPHNjcmlwdCBzcmM9Imh0dHBzOi8vY2RuLmpzZGVsaXZyLm5ldC9ucG0vbGVhZmxldEAxLjYuMC9kaXN0L2xlYWZsZXQuanMiPjwvc2NyaXB0PgogICAgPHNjcmlwdCBzcmM9Imh0dHBzOi8vY29kZS5qcXVlcnkuY29tL2pxdWVyeS0xLjEyLjQubWluLmpzIj48L3NjcmlwdD4KICAgIDxzY3JpcHQgc3JjPSJodHRwczovL21heGNkbi5ib290c3RyYXBjZG4uY29tL2Jvb3RzdHJhcC8zLjIuMC9qcy9ib290c3RyYXAubWluLmpzIj48L3NjcmlwdD4KICAgIDxzY3JpcHQgc3JjPSJodHRwczovL2NkbmpzLmNsb3VkZmxhcmUuY29tL2FqYXgvbGlicy9MZWFmbGV0LmF3ZXNvbWUtbWFya2Vycy8yLjAuMi9sZWFmbGV0LmF3ZXNvbWUtbWFya2Vycy5qcyI+PC9zY3JpcHQ+CiAgICA8bGluayByZWw9InN0eWxlc2hlZXQiIGhyZWY9Imh0dHBzOi8vY2RuLmpzZGVsaXZyLm5ldC9ucG0vbGVhZmxldEAxLjYuMC9kaXN0L2xlYWZsZXQuY3NzIi8+CiAgICA8bGluayByZWw9InN0eWxlc2hlZXQiIGhyZWY9Imh0dHBzOi8vbWF4Y2RuLmJvb3RzdHJhcGNkbi5jb20vYm9vdHN0cmFwLzMuMi4wL2Nzcy9ib290c3RyYXAubWluLmNzcyIvPgogICAgPGxpbmsgcmVsPSJzdHlsZXNoZWV0IiBocmVmPSJodHRwczovL21heGNkbi5ib290c3RyYXBjZG4uY29tL2Jvb3RzdHJhcC8zLjIuMC9jc3MvYm9vdHN0cmFwLXRoZW1lLm1pbi5jc3MiLz4KICAgIDxsaW5rIHJlbD0ic3R5bGVzaGVldCIgaHJlZj0iaHR0cHM6Ly9tYXhjZG4uYm9vdHN0cmFwY2RuLmNvbS9mb250LWF3ZXNvbWUvNC42LjMvY3NzL2ZvbnQtYXdlc29tZS5taW4uY3NzIi8+CiAgICA8bGluayByZWw9InN0eWxlc2hlZXQiIGhyZWY9Imh0dHBzOi8vY2RuanMuY2xvdWRmbGFyZS5jb20vYWpheC9saWJzL0xlYWZsZXQuYXdlc29tZS1tYXJrZXJzLzIuMC4yL2xlYWZsZXQuYXdlc29tZS1tYXJrZXJzLmNzcyIvPgogICAgPGxpbmsgcmVsPSJzdHlsZXNoZWV0IiBocmVmPSJodHRwczovL3Jhd2Nkbi5naXRoYWNrLmNvbS9weXRob24tdmlzdWFsaXphdGlvbi9mb2xpdW0vbWFzdGVyL2ZvbGl1bS90ZW1wbGF0ZXMvbGVhZmxldC5hd2Vzb21lLnJvdGF0ZS5jc3MiLz4KICAgIDxzdHlsZT5odG1sLCBib2R5IHt3aWR0aDogMTAwJTtoZWlnaHQ6IDEwMCU7bWFyZ2luOiAwO3BhZGRpbmc6IDA7fTwvc3R5bGU+CiAgICA8c3R5bGU+I21hcCB7cG9zaXRpb246YWJzb2x1dGU7dG9wOjA7Ym90dG9tOjA7cmlnaHQ6MDtsZWZ0OjA7fTwvc3R5bGU+CiAgICAKICAgICAgICAgICAgPG1ldGEgbmFtZT0idmlld3BvcnQiIGNvbnRlbnQ9IndpZHRoPWRldmljZS13aWR0aCwKICAgICAgICAgICAgICAgIGluaXRpYWwtc2NhbGU9MS4wLCBtYXhpbXVtLXNjYWxlPTEuMCwgdXNlci1zY2FsYWJsZT1ubyIgLz4KICAgICAgICAgICAgPHN0eWxlPgogICAgICAgICAgICAgICAgI21hcF8xMzdjNzYzN2Q4ODA0MTdhYmNlZDA4ZGYzMGM1YTYxOSB7CiAgICAgICAgICAgICAgICAgICAgcG9zaXRpb246IHJlbGF0aXZlOwogICAgICAgICAgICAgICAgICAgIHdpZHRoOiAxMDAuMCU7CiAgICAgICAgICAgICAgICAgICAgaGVpZ2h0OiAxMDAuMCU7CiAgICAgICAgICAgICAgICAgICAgbGVmdDogMC4wJTsKICAgICAgICAgICAgICAgICAgICB0b3A6IDAuMCU7CiAgICAgICAgICAgICAgICB9CiAgICAgICAgICAgIDwvc3R5bGU+CiAgICAgICAgCjwvaGVhZD4KPGJvZHk+ICAgIAogICAgCiAgICAgICAgICAgIDxkaXYgY2xhc3M9ImZvbGl1bS1tYXAiIGlkPSJtYXBfMTM3Yzc2MzdkODgwNDE3YWJjZWQwOGRmMzBjNWE2MTkiID48L2Rpdj4KICAgICAgICAKPC9ib2R5Pgo8c2NyaXB0PiAgICAKICAgIAogICAgICAgICAgICB2YXIgbWFwXzEzN2M3NjM3ZDg4MDQxN2FiY2VkMDhkZjMwYzVhNjE5ID0gTC5tYXAoCiAgICAgICAgICAgICAgICAibWFwXzEzN2M3NjM3ZDg4MDQxN2FiY2VkMDhkZjMwYzVhNjE5IiwKICAgICAgICAgICAgICAgIHsKICAgICAgICAgICAgICAgICAgICBjZW50ZXI6IFstMTMuNjU3MTU5OSwgLTY5LjcxODIzNV0sCiAgICAgICAgICAgICAgICAgICAgY3JzOiBMLkNSUy5FUFNHMzg1NywKICAgICAgICAgICAgICAgICAgICB6b29tOiA0LAogICAgICAgICAgICAgICAgICAgIHpvb21Db250cm9sOiB0cnVlLAogICAgICAgICAgICAgICAgICAgIHByZWZlckNhbnZhczogZmFsc2UsCiAgICAgICAgICAgICAgICB9CiAgICAgICAgICAgICk7CgogICAgICAgICAgICAKCiAgICAgICAgCiAgICAKICAgICAgICAgICAgdmFyIHRpbGVfbGF5ZXJfNTA4ZTQ5Y2ZhNDczNGUxZThlZjc5ODUwYzFiODYyMGMgPSBMLnRpbGVMYXllcigKICAgICAgICAgICAgICAgICJodHRwczovL3tzfS50aWxlLm9wZW5zdHJlZXRtYXAub3JnL3t6fS97eH0ve3l9LnBuZyIsCiAgICAgICAgICAgICAgICB7ImF0dHJpYnV0aW9uIjogIkRhdGEgYnkgXHUwMDI2Y29weTsgXHUwMDNjYSBocmVmPVwiaHR0cDovL29wZW5zdHJlZXRtYXAub3JnXCJcdTAwM2VPcGVuU3RyZWV0TWFwXHUwMDNjL2FcdTAwM2UsIHVuZGVyIFx1MDAzY2EgaHJlZj1cImh0dHA6Ly93d3cub3BlbnN0cmVldG1hcC5vcmcvY29weXJpZ2h0XCJcdTAwM2VPRGJMXHUwMDNjL2FcdTAwM2UuIiwgImRldGVjdFJldGluYSI6IGZhbHNlLCAibWF4TmF0aXZlWm9vbSI6IDE4LCAibWF4Wm9vbSI6IDE4LCAibWluWm9vbSI6IDAsICJub1dyYXAiOiBmYWxzZSwgIm9wYWNpdHkiOiAxLCAic3ViZG9tYWlucyI6ICJhYmMiLCAidG1zIjogZmFsc2V9CiAgICAgICAgICAgICkuYWRkVG8obWFwXzEzN2M3NjM3ZDg4MDQxN2FiY2VkMDhkZjMwYzVhNjE5KTsKICAgICAgICAKPC9zY3JpcHQ+ onload=\"this.contentDocument.open();this.contentDocument.write(atob(this.getAttribute('data-html')));this.contentDocument.close();\" allowfullscreen webkitallowfullscreen mozallowfullscreen></iframe></div></div>"
      ],
      "text/plain": [
       "<folium.folium.Map at 0x177da087a88>"
      ]
     },
     "execution_count": 13,
     "metadata": {},
     "output_type": "execute_result"
    }
   ],
   "source": [
    "# Vamos aprender como o folium funciona\n",
    "# criar um mapa, com base em uma coordenada central, usando as coordenadas do Brasil no google maps\n",
    "brasil= folium.Map(location=[-13.6571599, -69.718235], zoom_start=4)\n",
    "\n",
    "# Mostrando mapa\n",
    "brasil"
   ]
  },
  {
   "cell_type": "code",
   "execution_count": 24,
   "metadata": {},
   "outputs": [],
   "source": [
    "# Criando o mapa do Rio Grande do Sul\n",
    "# coordenadas ajustadas do google maps\n",
    "rs= folium.Map(location=[-27,-59], zoom_start=3)"
   ]
  },
  {
   "cell_type": "code",
   "execution_count": 41,
   "metadata": {},
   "outputs": [
    {
     "data": {
      "text/html": [
       "<div style=\"width:100%;\"><div style=\"position:relative;width:100%;height:0;padding-bottom:60%;\"><span style=\"color:#565656\">Make this Notebook Trusted to load map: File -> Trust Notebook</span><iframe src=\"about:blank\" style=\"position:absolute;width:100%;height:100%;left:0;top:0;border:none !important;\" data-html=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 onload=\"this.contentDocument.open();this.contentDocument.write(atob(this.getAttribute('data-html')));this.contentDocument.close();\" allowfullscreen webkitallowfullscreen mozallowfullscreen></iframe></div></div>"
      ],
      "text/plain": [
       "<folium.folium.Map at 0x177da97d788>"
      ]
     },
     "execution_count": 41,
     "metadata": {},
     "output_type": "execute_result"
    }
   ],
   "source": [
    "# mostrando o mapa do RS\n",
    "rs"
   ]
  },
  {
   "cell_type": "code",
   "execution_count": 46,
   "metadata": {},
   "outputs": [
    {
     "data": {
      "text/html": [
       "<div style=\"width:100%;\"><div style=\"position:relative;width:100%;height:0;padding-bottom:60%;\"><span style=\"color:#565656\">Make this Notebook Trusted to load map: File -> Trust Notebook</span><iframe src=\"about:blank\" style=\"position:absolute;width:100%;height:100%;left:0;top:0;border:none !important;\" data-html=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 onload=\"this.contentDocument.open();this.contentDocument.write(atob(this.getAttribute('data-html')));this.contentDocument.close();\" allowfullscreen webkitallowfullscreen mozallowfullscreen></iframe></div></div>"
      ],
      "text/plain": [
       "<folium.folium.Map at 0x177da97d788>"
      ]
     },
     "execution_count": 46,
     "metadata": {},
     "output_type": "execute_result"
    }
   ],
   "source": [
    "# Percorrer o DataFrame com base nas melhores escolas (menor taxa de distorção)\n",
    "# E desenhar um marcador para cada escola\n",
    "# Usando for e iterrows para fazer\n",
    "\n",
    "for indice, municipio in df[df['tx_distorcao'] <= 10].iterrows():folium.Marker(location=[municipio['latitude'], municipio['longitude']], popup=municipio['Município'], icon=folium.map.Icon(color='green')).add_to(rs)\n",
    "     \n",
    "rs\n"
   ]
  },
  {
   "cell_type": "code",
   "execution_count": 47,
   "metadata": {},
   "outputs": [
    {
     "data": {
      "text/html": [
       "<div style=\"width:100%;\"><div style=\"position:relative;width:100%;height:0;padding-bottom:60%;\"><span style=\"color:#565656\">Make this Notebook Trusted to load map: File -> Trust Notebook</span><iframe src=\"about:blank\" style=\"position:absolute;width:100%;height:100%;left:0;top:0;border:none !important;\" data-html=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 onload=\"this.contentDocument.open();this.contentDocument.write(atob(this.getAttribute('data-html')));this.contentDocument.close();\" allowfullscreen webkitallowfullscreen mozallowfullscreen></iframe></div></div>"
      ],
      "text/plain": [
       "<folium.folium.Map at 0x177da97d788>"
      ]
     },
     "execution_count": 47,
     "metadata": {},
     "output_type": "execute_result"
    }
   ],
   "source": [
    "# Percorrer o DataFrame com base nas piores escolas (maior taxa de distorção)\n",
    "# E desenhar um marcador para cada escola\n",
    "# Usando for e iterrows para fazer\n",
    "\n",
    "for indice, municipio in df[df['tx_distorcao'] >= 45].iterrows():folium.Marker(location=[municipio['latitude'], municipio['longitude']], popup=municipio['Município'], icon=folium.map.Icon(color='red')).add_to(rs)\n",
    "     \n",
    "rs\n"
   ]
  },
  {
   "cell_type": "code",
   "execution_count": 48,
   "metadata": {},
   "outputs": [
    {
     "data": {
      "text/plain": [
       "325    32.3\n",
       "Name: tx_distorcao, dtype: float64"
      ]
     },
     "execution_count": 48,
     "metadata": {},
     "output_type": "execute_result"
    }
   ],
   "source": [
    "# Qual a taxa de distorção de Porto Alegre\n",
    "df[df['Município'] =='Porto Alegre']['tx_distorcao']"
   ]
  },
  {
   "cell_type": "code",
   "execution_count": null,
   "metadata": {},
   "outputs": [],
   "source": []
  }
 ],
 "metadata": {
  "kernelspec": {
   "display_name": "Python 3",
   "language": "python",
   "name": "python3"
  },
  "language_info": {
   "codemirror_mode": {
    "name": "ipython",
    "version": 3
   },
   "file_extension": ".py",
   "mimetype": "text/x-python",
   "name": "python",
   "nbconvert_exporter": "python",
   "pygments_lexer": "ipython3",
   "version": "3.7.6"
  }
 },
 "nbformat": 4,
 "nbformat_minor": 4
}
